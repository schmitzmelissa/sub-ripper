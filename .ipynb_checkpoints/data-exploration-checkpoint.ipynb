{
 "cells": [
  {
   "cell_type": "code",
   "execution_count": 4,
   "metadata": {},
   "outputs": [
    {
     "name": "stdout",
     "output_type": "stream",
     "text": [
      "What is your file name?\n",
      "sonneundmund_st01-flg01.csv\n"
     ]
    }
   ],
   "source": [
    "import pandas as pd\n",
    "import numpy as np\n",
    "\n",
    "# Allows better display of DataFrames\n",
    "from IPython.display import display\n",
    "\n",
    "# Get file name from user\n",
    "filename = input(\"What is your file name?\\n\")\n",
    "\n",
    "# Create DataFrame from CSV file\n",
    "subs = pd.read_csv(filename, sep=';')"
   ]
  },
  {
   "cell_type": "code",
   "execution_count": 5,
   "metadata": {},
   "outputs": [
    {
     "data": {
      "text/html": [
       "<div>\n",
       "<style scoped>\n",
       "    .dataframe tbody tr th:only-of-type {\n",
       "        vertical-align: middle;\n",
       "    }\n",
       "\n",
       "    .dataframe tbody tr th {\n",
       "        vertical-align: top;\n",
       "    }\n",
       "\n",
       "    .dataframe thead th {\n",
       "        text-align: right;\n",
       "    }\n",
       "</style>\n",
       "<table border=\"1\" class=\"dataframe\">\n",
       "  <thead>\n",
       "    <tr style=\"text-align: right;\">\n",
       "      <th></th>\n",
       "      <th>Number</th>\n",
       "      <th>Start time in milliseconds</th>\n",
       "      <th>End time in milliseconds</th>\n",
       "      <th>Text</th>\n",
       "    </tr>\n",
       "  </thead>\n",
       "  <tbody>\n",
       "    <tr>\n",
       "      <th>0</th>\n",
       "      <td>1</td>\n",
       "      <td>2.168833e+03</td>\n",
       "      <td>5.422083e+03</td>\n",
       "      <td>Hey, wow. Das ist ja wirklich der Hammer.</td>\n",
       "    </tr>\n",
       "    <tr>\n",
       "      <th>1</th>\n",
       "      <td>2</td>\n",
       "      <td>5.505500e+03</td>\n",
       "      <td>8.466792e+03</td>\n",
       "      <td>-Nicht wahr, Pikachu?\\n-Pikachu!</td>\n",
       "    </tr>\n",
       "    <tr>\n",
       "      <th>2</th>\n",
       "      <td>3</td>\n",
       "      <td>8.550208e+03</td>\n",
       "      <td>9.676333e+03</td>\n",
       "      <td>[lacht]</td>\n",
       "    </tr>\n",
       "    <tr>\n",
       "      <th>3</th>\n",
       "      <td>4</td>\n",
       "      <td>1.092758e+04</td>\n",
       "      <td>1.484817e+04</td>\n",
       "      <td>[Erzähler]\\nMele-Mele, eine Insel der Alola-Re...</td>\n",
       "    </tr>\n",
       "    <tr>\n",
       "      <th>4</th>\n",
       "      <td>5</td>\n",
       "      <td>1.493158e+04</td>\n",
       "      <td>2.056221e+04</td>\n",
       "      <td>Ash und Pikachu machen dort Ferien\\nund haben ...</td>\n",
       "    </tr>\n",
       "    <tr>\n",
       "      <th>...</th>\n",
       "      <td>...</td>\n",
       "      <td>...</td>\n",
       "      <td>...</td>\n",
       "      <td>...</td>\n",
       "    </tr>\n",
       "    <tr>\n",
       "      <th>351</th>\n",
       "      <td>352</td>\n",
       "      <td>1.285826e+06</td>\n",
       "      <td>1.287745e+06</td>\n",
       "      <td>[Ash keucht]</td>\n",
       "    </tr>\n",
       "    <tr>\n",
       "      <th>352</th>\n",
       "      <td>353</td>\n",
       "      <td>1.287828e+06</td>\n",
       "      <td>1.291332e+06</td>\n",
       "      <td>[Erzähler] Für die beiden\\nbeginnt eine aufreg...</td>\n",
       "    </tr>\n",
       "    <tr>\n",
       "      <th>353</th>\n",
       "      <td>354</td>\n",
       "      <td>1.291957e+06</td>\n",
       "      <td>1.297087e+06</td>\n",
       "      <td>nachdem Ash ein Armband\\nvon dem Schutzpatron ...</td>\n",
       "    </tr>\n",
       "    <tr>\n",
       "      <th>354</th>\n",
       "      <td>355</td>\n",
       "      <td>1.297171e+06</td>\n",
       "      <td>1.298714e+06</td>\n",
       "      <td>{\\an8}Die Reise geht weiter.</td>\n",
       "    </tr>\n",
       "    <tr>\n",
       "      <th>355</th>\n",
       "      <td>356</td>\n",
       "      <td>1.298798e+06</td>\n",
       "      <td>1.304804e+06</td>\n",
       "      <td>{\\an8}FORTSETZUNG FOLGT...</td>\n",
       "    </tr>\n",
       "  </tbody>\n",
       "</table>\n",
       "<p>356 rows × 4 columns</p>\n",
       "</div>"
      ],
      "text/plain": [
       "     Number  Start time in milliseconds  End time in milliseconds  \\\n",
       "0         1                2.168833e+03              5.422083e+03   \n",
       "1         2                5.505500e+03              8.466792e+03   \n",
       "2         3                8.550208e+03              9.676333e+03   \n",
       "3         4                1.092758e+04              1.484817e+04   \n",
       "4         5                1.493158e+04              2.056221e+04   \n",
       "..      ...                         ...                       ...   \n",
       "351     352                1.285826e+06              1.287745e+06   \n",
       "352     353                1.287828e+06              1.291332e+06   \n",
       "353     354                1.291957e+06              1.297087e+06   \n",
       "354     355                1.297171e+06              1.298714e+06   \n",
       "355     356                1.298798e+06              1.304804e+06   \n",
       "\n",
       "                                                  Text  \n",
       "0            Hey, wow. Das ist ja wirklich der Hammer.  \n",
       "1                     -Nicht wahr, Pikachu?\\n-Pikachu!  \n",
       "2                                              [lacht]  \n",
       "3    [Erzähler]\\nMele-Mele, eine Insel der Alola-Re...  \n",
       "4    Ash und Pikachu machen dort Ferien\\nund haben ...  \n",
       "..                                                 ...  \n",
       "351                                       [Ash keucht]  \n",
       "352  [Erzähler] Für die beiden\\nbeginnt eine aufreg...  \n",
       "353  nachdem Ash ein Armband\\nvon dem Schutzpatron ...  \n",
       "354                       {\\an8}Die Reise geht weiter.  \n",
       "355                         {\\an8}FORTSETZUNG FOLGT...  \n",
       "\n",
       "[356 rows x 4 columns]"
      ]
     },
     "execution_count": 5,
     "metadata": {},
     "output_type": "execute_result"
    }
   ],
   "source": [
    "subs"
   ]
  },
  {
   "cell_type": "code",
   "execution_count": 6,
   "metadata": {},
   "outputs": [
    {
     "data": {
      "text/plain": [
       "0              Hey, wow. Das ist ja wirklich der Hammer.\n",
       "1                       -Nicht wahr, Pikachu?\\n-Pikachu!\n",
       "2                                                [lacht]\n",
       "3      [Erzähler]\\nMele-Mele, eine Insel der Alola-Re...\n",
       "4      Ash und Pikachu machen dort Ferien\\nund haben ...\n",
       "                             ...                        \n",
       "351                                         [Ash keucht]\n",
       "352    [Erzähler] Für die beiden\\nbeginnt eine aufreg...\n",
       "353    nachdem Ash ein Armband\\nvon dem Schutzpatron ...\n",
       "354                         {\\an8}Die Reise geht weiter.\n",
       "355                           {\\an8}FORTSETZUNG FOLGT...\n",
       "Name: Text, Length: 356, dtype: object"
      ]
     },
     "execution_count": 6,
     "metadata": {},
     "output_type": "execute_result"
    }
   ],
   "source": [
    "subs = subs[\"Text\"]\n",
    "subs"
   ]
  },
  {
   "cell_type": "code",
   "execution_count": 7,
   "metadata": {},
   "outputs": [
    {
     "data": {
      "text/plain": [
       "pandas.core.series.Series"
      ]
     },
     "execution_count": 7,
     "metadata": {},
     "output_type": "execute_result"
    }
   ],
   "source": [
    "type(subs)"
   ]
  },
  {
   "cell_type": "code",
   "execution_count": null,
   "metadata": {},
   "outputs": [],
   "source": []
  }
 ],
 "metadata": {
  "kernelspec": {
   "display_name": "Python 3",
   "language": "python",
   "name": "python3"
  },
  "language_info": {
   "codemirror_mode": {
    "name": "ipython",
    "version": 3
   },
   "file_extension": ".py",
   "mimetype": "text/x-python",
   "name": "python",
   "nbconvert_exporter": "python",
   "pygments_lexer": "ipython3",
   "version": "3.6.8"
  }
 },
 "nbformat": 4,
 "nbformat_minor": 4
}
